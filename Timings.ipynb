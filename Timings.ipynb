{
 "metadata": {
  "name": "",
  "signature": "sha256:d4c9bdb6266f782393950969b787d8af50ddb45db49e26ea74784ca184b556e3"
 },
 "nbformat": 3,
 "nbformat_minor": 0,
 "worksheets": [
  {
   "cells": [
    {
     "cell_type": "heading",
     "level": 1,
     "metadata": {},
     "source": [
      "Timing Vergleich zwischen BRESENHAM und IncrementalDistance Raycasting Algorithmen"
     ]
    },
    {
     "cell_type": "code",
     "collapsed": false,
     "input": [
      "import numpy as np"
     ],
     "language": "python",
     "metadata": {},
     "outputs": [],
     "prompt_number": 1
    },
    {
     "cell_type": "heading",
     "level": 2,
     "metadata": {},
     "source": [
      "BRESENHAM Algorithm"
     ]
    },
    {
     "cell_type": "markdown",
     "metadata": {},
     "source": [
      "Amanatides, J., & Woo, A. (1987). A fast voxel traversal algorithm for ray tracing. Proceedings of EUROGRAPHICS, i. Retrieved from http://www.cse.yorku.ca/~amana/research/grid.pdf\n",
      "\n",
      "Here is a Python Implementation of BRESENHAM Algorithm: https://gist.github.com/salmonmoose/2760072"
     ]
    },
    {
     "cell_type": "code",
     "collapsed": false,
     "input": [
      "def bresenham3D(startPoint, endPoint):\n",
      "   # by Anton Fletcher\n",
      "   # Thank you!\n",
      "   path = [] \n",
      "    \n",
      "   startPoint = [int(startPoint[0]),int(startPoint[1]),int(startPoint[2])]\n",
      "   endPoint = [int(endPoint[0]),int(endPoint[1]),int(endPoint[2])]\n",
      " \n",
      "   steepXY = (np.abs(endPoint[1] - startPoint[1]) > np.abs(endPoint[0] - startPoint[0]))\n",
      "   if(steepXY):   \n",
      "      startPoint[0], startPoint[1] = startPoint[1], startPoint[0]\n",
      "      endPoint[0], endPoint[1] = endPoint[1], endPoint[0]\n",
      " \n",
      "   steepXZ = (np.abs(endPoint[2] - startPoint[2]) > np.abs(endPoint[0] - startPoint[0]))\n",
      "   if(steepXZ):\n",
      "      startPoint[0], startPoint[2] = startPoint[2], startPoint[0]\n",
      "      endPoint[0], endPoint[2] = endPoint[2], endPoint[0]\n",
      " \n",
      "   delta = [np.abs(endPoint[0] - startPoint[0]), np.abs(endPoint[1] - startPoint[1]), np.abs(endPoint[2] - startPoint[2])]\n",
      "\n",
      "   errorXY = delta[0] / 2\n",
      "   errorXZ = delta[0] / 2\n",
      " \n",
      "   step = [\n",
      "      -1 if startPoint[0] > endPoint[0] else 1,\n",
      "      -1 if startPoint[1] > endPoint[1] else 1,\n",
      "      -1 if startPoint[2] > endPoint[2] else 1\n",
      "   ]\n",
      " \n",
      "   y = startPoint[1]\n",
      "   z = startPoint[2]\n",
      " \n",
      "   for x in range(startPoint[0], endPoint[0], step[0]):\n",
      "      point = [x, y, z]\n",
      " \n",
      "      if(steepXZ):\n",
      "          point[0], point[2] = point[2], point[0]\n",
      "      if(steepXY):\n",
      "          point[0], point[1] = point[1], point[0]\n",
      " \n",
      "      #print (point)\n",
      "\n",
      " \n",
      "      errorXY -= delta[1]\n",
      "      errorXZ -= delta[2]\n",
      " \n",
      "      if(errorXY < 0):\n",
      "          y += step[1]\n",
      "          errorXY += delta[0]\n",
      " \n",
      "      if(errorXZ < 0):\n",
      "          z += step[2]\n",
      "          errorXZ += delta[0]\n",
      "\n",
      "      path.append(point)\n",
      "\n",
      "   return path"
     ],
     "language": "python",
     "metadata": {},
     "outputs": [],
     "prompt_number": 7
    },
    {
     "cell_type": "code",
     "collapsed": false,
     "input": [
      "goal = (5.5, 3.5, 0.0)"
     ],
     "language": "python",
     "metadata": {},
     "outputs": [],
     "prompt_number": 8
    },
    {
     "cell_type": "code",
     "collapsed": false,
     "input": [
      "%%timeit\n",
      "cells = bresenham3D((0,0,0), (goal[0], goal[1], 0.0))"
     ],
     "language": "python",
     "metadata": {},
     "outputs": [
      {
       "output_type": "stream",
       "stream": "stdout",
       "text": [
        "10000 loops, best of 3: 41 \u00b5s per loop\n"
       ]
      }
     ],
     "prompt_number": 9
    },
    {
     "cell_type": "code",
     "collapsed": false,
     "input": [
      "#cells"
     ],
     "language": "python",
     "metadata": {},
     "outputs": [],
     "prompt_number": 10
    },
    {
     "cell_type": "heading",
     "level": 2,
     "metadata": {},
     "source": [
      "Incremental Distance Raycasting"
     ]
    },
    {
     "cell_type": "code",
     "collapsed": false,
     "input": [
      "def ibeo2XYZ(theta, dist, layer, R, t):\n",
      "    '''\n",
      "    Berechnet die kartesischen X,Y,Z-Koordinaten aus polaren Koordinaten des IBEO Lux Laserscanners\n",
      "   \n",
      "    Input:\n",
      "        - theta: Horizontaler Winkel\n",
      "        - dist : polarer Abstand\n",
      "        - layer: Ebene\n",
      "        - R    : Euler Rotationsmatrix (Rotation Laserscanner)\n",
      "        - t    : Translationsvektor (Position Laserscanner)\n",
      "    \n",
      "    if not R.shape == (3,3):\n",
      "        raise ValueError('Rotationsmatrix muss 3x3 sein')\n",
      "    if not t.shape == (3,1):\n",
      "        raise ValueError('Translationsvektor muss 3x1 sein: [X],[Y],[Z]')\n",
      "    '''\n",
      "    \n",
      "    # Ibeo Lux hat 3.2\u00b0 bei 4 Ebenen vertikal\n",
      "    oeffnungswinkel = 3.2\n",
      "    ebenen = 4.0\n",
      "    \n",
      "    # aus Ebene den Vertikalwinkel berechnen\n",
      "    phi = (layer * oeffnungswinkel/(ebenen-1) - oeffnungswinkel/2.0) * np.pi/180.0\n",
      "    \n",
      "    xe = dist * np.cos(theta)\n",
      "    ye = dist * np.sin(theta)\n",
      "    ze = dist * np.sin(phi)\n",
      "    \n",
      "    '''\n",
      "    RSensor = np.eye(4) # Einheitsmatrix erstellen\n",
      "\n",
      "    # Rotationsteil\n",
      "    RSensor[np.ix_([0,1,2],[0,1,2])] = R\n",
      "\n",
      "    # Translationsteil\n",
      "    RSensor[np.ix_([0,1,2],[3])] = t\n",
      "    \n",
      "    Pointcloud = np.array((X,Y,Z,np.ones(np.size(X))))\n",
      "\n",
      "    # Homogene Multiplikation von Punkten und Rotation+Translation\n",
      "    [xe,ye,ze,w] = np.dot(RSensor, Pointcloud)\n",
      "    '''\n",
      "    return np.array([xe, ye, ze])"
     ],
     "language": "python",
     "metadata": {},
     "outputs": [],
     "prompt_number": 11
    },
    {
     "cell_type": "code",
     "collapsed": false,
     "input": [
      "def raycast(angle, distance, layer, R, t, dd):\n",
      "    '''\n",
      "    Calculates the Cells, which are crossed by a laser beam\n",
      "    Input:\n",
      "    '''\n",
      "    dists = np.arange(0.0, distance, dd)\n",
      "    CellHit = np.zeros([len(dists),3])\n",
      "\n",
      "    for i,d in enumerate(dists):\n",
      "        [X, Y, Z] = ibeo2XYZ(angle, d, layer, R, t)\n",
      "        CellHit[i]= [int(X), int(Y), int(Z)]\n",
      "        \n",
      "    # Make visited Cells Unique\n",
      "    # Thanks Joe Kingdon: http://stackoverflow.com/a/16971224\n",
      "    uniq = np.unique(CellHit.view(CellHit.dtype.descr * CellHit.shape[1]))\n",
      "    uniqCellHit = uniq.view(CellHit.dtype).reshape(-1, CellHit.shape[1])\n",
      "    return uniqCellHit[:-1]"
     ],
     "language": "python",
     "metadata": {},
     "outputs": [],
     "prompt_number": 12
    },
    {
     "cell_type": "code",
     "collapsed": false,
     "input": [
      "angle = 0.55\n",
      "dist = 6.5\n",
      "layer= 1\n",
      "R = np.matrix(np.eye(3))\n",
      "t = np.zeros([3,1])"
     ],
     "language": "python",
     "metadata": {},
     "outputs": [],
     "prompt_number": 13
    },
    {
     "cell_type": "code",
     "collapsed": false,
     "input": [
      "%%timeit\n",
      "cells = raycast(angle, dist, layer, R, t, 0.5)"
     ],
     "language": "python",
     "metadata": {},
     "outputs": [
      {
       "output_type": "stream",
       "stream": "stdout",
       "text": [
        "1000 loops, best of 3: 257 \u00b5s per loop\n"
       ]
      }
     ],
     "prompt_number": 14
    },
    {
     "cell_type": "code",
     "collapsed": false,
     "input": [
      "#cells"
     ],
     "language": "python",
     "metadata": {},
     "outputs": [],
     "prompt_number": 15
    },
    {
     "cell_type": "heading",
     "level": 1,
     "metadata": {},
     "source": [
      "Timing Vergleich zum Erstellen eines Grids"
     ]
    },
    {
     "cell_type": "code",
     "collapsed": false,
     "input": [
      "l = 100\n",
      "b = 100\n",
      "h = 20"
     ],
     "language": "python",
     "metadata": {},
     "outputs": [],
     "prompt_number": 2
    },
    {
     "cell_type": "heading",
     "level": 3,
     "metadata": {},
     "source": [
      "Python Nativ"
     ]
    },
    {
     "cell_type": "code",
     "collapsed": false,
     "input": [
      "%timeit grid = [[[0 for x in range(l)] for y in range(b)] for z in range(h)]"
     ],
     "language": "python",
     "metadata": {},
     "outputs": [
      {
       "output_type": "stream",
       "stream": "stdout",
       "text": [
        "100 loops, best of 3: 12.1 ms per loop\n"
       ]
      }
     ],
     "prompt_number": 17
    },
    {
     "cell_type": "heading",
     "level": 3,
     "metadata": {},
     "source": [
      "Numpy Methods"
     ]
    },
    {
     "cell_type": "heading",
     "level": 4,
     "metadata": {},
     "source": [
      "Int"
     ]
    },
    {
     "cell_type": "code",
     "collapsed": false,
     "input": [
      "%timeit grid = np.zeros((l, b, h), dtype=np.int)"
     ],
     "language": "python",
     "metadata": {},
     "outputs": [
      {
       "output_type": "stream",
       "stream": "stdout",
       "text": [
        "10000 loops, best of 3: 71.2 \u00b5s per loop\n"
       ]
      }
     ],
     "prompt_number": 18
    },
    {
     "cell_type": "code",
     "collapsed": false,
     "input": [
      "%timeit grid = np.ones((l, b, h), dtype=np.int)"
     ],
     "language": "python",
     "metadata": {},
     "outputs": [
      {
       "output_type": "stream",
       "stream": "stdout",
       "text": [
        "1000 loops, best of 3: 115 \u00b5s per loop\n"
       ]
      }
     ],
     "prompt_number": 19
    },
    {
     "cell_type": "code",
     "collapsed": false,
     "input": [
      "%timeit grid = -1 * np.ones((l, b, h), dtype=np.int)"
     ],
     "language": "python",
     "metadata": {},
     "outputs": [
      {
       "output_type": "stream",
       "stream": "stdout",
       "text": [
        "1000 loops, best of 3: 425 \u00b5s per loop\n"
       ]
      }
     ],
     "prompt_number": 20
    },
    {
     "cell_type": "code",
     "collapsed": false,
     "input": [
      "%%timeit\n",
      "grid = np.empty((l,b,h))\n",
      "grid.fill(-1.0)"
     ],
     "language": "python",
     "metadata": {},
     "outputs": [
      {
       "output_type": "stream",
       "stream": "stdout",
       "text": [
        "10000 loops, best of 3: 121 \u00b5s per loop\n"
       ]
      }
     ],
     "prompt_number": 21
    },
    {
     "cell_type": "heading",
     "level": 4,
     "metadata": {},
     "source": [
      "Int8"
     ]
    },
    {
     "cell_type": "markdown",
     "metadata": {},
     "source": [
      "Tipps from [Stackoverflow.com](http://stackoverflow.com/questions/25992795/fastest-way-to-create-an-array-in-python/)"
     ]
    },
    {
     "cell_type": "code",
     "collapsed": false,
     "input": [
      "%%timeit\n",
      "grid = np.empty((l,b,h), dtype=np.int8)\n",
      "grid[:] = -1"
     ],
     "language": "python",
     "metadata": {},
     "outputs": [
      {
       "output_type": "stream",
       "stream": "stdout",
       "text": [
        "100000 loops, best of 3: 14.8 \u00b5s per loop\n"
       ]
      }
     ],
     "prompt_number": 22
    },
    {
     "cell_type": "code",
     "collapsed": false,
     "input": [
      "%timeit grid = np.lib.stride_tricks.as_strided(np.array(-1, dtype=np.int8), (l, b, h), (0, 0, 0))"
     ],
     "language": "python",
     "metadata": {},
     "outputs": [
      {
       "output_type": "stream",
       "stream": "stdout",
       "text": [
        "100000 loops, best of 3: 12.3 \u00b5s per loop\n"
       ]
      }
     ],
     "prompt_number": 4
    },
    {
     "cell_type": "heading",
     "level": 4,
     "metadata": {},
     "source": [
      "Float32"
     ]
    },
    {
     "cell_type": "code",
     "collapsed": false,
     "input": [
      "%timeit grid = np.zeros((l, b, h), dtype=np.float32)"
     ],
     "language": "python",
     "metadata": {},
     "outputs": [
      {
       "output_type": "stream",
       "stream": "stdout",
       "text": [
        "10000 loops, best of 3: 33.1 \u00b5s per loop\n"
       ]
      }
     ],
     "prompt_number": 23
    },
    {
     "cell_type": "code",
     "collapsed": false,
     "input": [
      "%timeit grid = np.ones((l, b, h), dtype=np.float32)"
     ],
     "language": "python",
     "metadata": {},
     "outputs": [
      {
       "output_type": "stream",
       "stream": "stdout",
       "text": [
        "10000 loops, best of 3: 91.4 \u00b5s per loop\n"
       ]
      }
     ],
     "prompt_number": 24
    },
    {
     "cell_type": "code",
     "collapsed": false,
     "input": [
      "%timeit grid = -1.0 * np.ones((l, b, h), dtype=np.float32)"
     ],
     "language": "python",
     "metadata": {},
     "outputs": [
      {
       "output_type": "stream",
       "stream": "stdout",
       "text": [
        "10000 loops, best of 3: 163 \u00b5s per loop\n"
       ]
      }
     ],
     "prompt_number": 25
    },
    {
     "cell_type": "code",
     "collapsed": false,
     "input": [
      "%%timeit\n",
      "grid = np.empty((l,b,h))\n",
      "grid.fill(-1.0)"
     ],
     "language": "python",
     "metadata": {},
     "outputs": [
      {
       "output_type": "stream",
       "stream": "stdout",
       "text": [
        "10000 loops, best of 3: 113 \u00b5s per loop\n"
       ]
      }
     ],
     "prompt_number": 26
    },
    {
     "cell_type": "code",
     "collapsed": false,
     "input": [],
     "language": "python",
     "metadata": {},
     "outputs": []
    }
   ],
   "metadata": {}
  }
 ]
}